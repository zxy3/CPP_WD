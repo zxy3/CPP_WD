{
 "cells": [
  {
   "cell_type": "markdown",
   "metadata": {},
   "source": [
    "### 循环结构"
   ]
  },
  {
   "cell_type": "code",
   "execution_count": 1,
   "metadata": {},
   "outputs": [
    {
     "name": "stdout",
     "output_type": "stream",
     "text": [
      "0\n",
      "1\n",
      "2\n",
      "3\n",
      "4\n",
      "5\n",
      "6\n",
      "7\n",
      "8\n",
      "9\n"
     ]
    }
   ],
   "source": [
    "tang = 0\n",
    "while tang < 10:\n",
    "    print (tang)\n",
    "    tang += 1"
   ]
  },
  {
   "cell_type": "code",
   "execution_count": 5,
   "metadata": {},
   "outputs": [
    {
     "name": "stdout",
     "output_type": "stream",
     "text": [
      "di\n",
      "yu\n",
      "tang\n"
     ]
    }
   ],
   "source": [
    "# 先设置一个集合\n",
    "tangs = set(['tang','yu','di'])\n",
    "while tangs:\n",
    "# 集合一旦为空，则循环停止\n",
    "# 先弹出，再打印\n",
    "    tang = tangs.pop()\n",
    "#     集合一旦为空，循环就会停下来\n",
    "    print (tang)"
   ]
  },
  {
   "cell_type": "code",
   "execution_count": 6,
   "metadata": {},
   "outputs": [],
   "source": [
    "tangs = set(['tang','yu','di'])"
   ]
  },
  {
   "cell_type": "code",
   "execution_count": 7,
   "metadata": {},
   "outputs": [
    {
     "name": "stdout",
     "output_type": "stream",
     "text": [
      "di\n",
      "yu\n",
      "tang\n"
     ]
    }
   ],
   "source": [
    "for name in tangs:\n",
    "# in前面是变量。后面是集合名称\n",
    "# 每一个变量的名字是name\n",
    "# name相当是变量的别名\n",
    "    print (name)"
   ]
  },
  {
   "cell_type": "code",
   "execution_count": 4,
   "metadata": {},
   "outputs": [
    {
     "name": "stdout",
     "output_type": "stream",
     "text": [
      "123\n",
      "435\n",
      "1234\n",
      "513245\n",
      "11243\n",
      "1234\n",
      "1234\n",
      "534\n",
      "346\n"
     ]
    }
   ],
   "source": [
    "tang = [123,435,1234,513245,11243,1234,1234,534,346]\n",
    "for i in range(len(tang)):\n",
    "#     i 在len长度随机长度生成数字 i就是一个索引\n",
    "# \n",
    "    print (tang[i])"
   ]
  },
  {
   "cell_type": "code",
   "execution_count": 15,
   "metadata": {},
   "outputs": [
    {
     "name": "stdout",
     "output_type": "stream",
     "text": [
      "10\n",
      "12\n",
      "14\n"
     ]
    }
   ],
   "source": [
    "tang = [10,11,12,13,14,15]\n",
    "for i in tang:\n",
    "#     偶数的话就打印，不是就继续，什么都不操作\n",
    "# 索引体现嵌套\n",
    "    if i%2 == 0:\n",
    "        print (i)\n",
    "    else:\n",
    "        continue\n",
    "#     print (i)"
   ]
  },
  {
   "cell_type": "code",
   "execution_count": 16,
   "metadata": {},
   "outputs": [
    {
     "name": "stdout",
     "output_type": "stream",
     "text": [
      "10\n",
      "10\n"
     ]
    }
   ],
   "source": [
    "tang = [10,11,12,13,14,15]\n",
    "for i in tang:\n",
    "    if i%2 == 0:\n",
    "        print (i)\n",
    "    else:\n",
    "#         如果不是就跳出去了，不会再继续执行了\n",
    "        break\n",
    "    print (i)"
   ]
  },
  {
   "cell_type": "code",
   "execution_count": null,
   "metadata": {
    "collapsed": true
   },
   "outputs": [],
   "source": []
  }
 ],
 "metadata": {
  "anaconda-cloud": {},
  "kernelspec": {
   "display_name": "Python 3",
   "language": "python",
   "name": "python3"
  },
  "language_info": {
   "codemirror_mode": {
    "name": "ipython",
    "version": 3
   },
   "file_extension": ".py",
   "mimetype": "text/x-python",
   "name": "python",
   "nbconvert_exporter": "python",
   "pygments_lexer": "ipython3",
   "version": "3.7.3"
  }
 },
 "nbformat": 4,
 "nbformat_minor": 1
}

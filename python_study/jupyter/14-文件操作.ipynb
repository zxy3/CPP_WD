{
 "cells": [
  {
   "cell_type": "markdown",
   "metadata": {},
   "source": [
    "## 文件"
   ]
  },
  {
   "cell_type": "code",
   "execution_count": 5,
   "metadata": {},
   "outputs": [
    {
     "name": "stdout",
     "output_type": "stream",
     "text": [
      "Overwriting tang.txt\n"
     ]
    }
   ],
   "source": [
    "%%writefile tang.txt\n",
    "# 把下面的这些东西都放到上面的文件里面\n",
    "hello python\n",
    "tang yu di\n",
    "jin tian tian qi bu cuo"
   ]
  },
  {
   "cell_type": "code",
   "execution_count": 14,
   "metadata": {},
   "outputs": [],
   "source": [
    "# 先打开文件，名字要写对才行，用单引号\n",
    "# 一般把代码和文件都放在一起\n",
    "# ./是从当前路径下开始的意思\n",
    "txt = open('./tang.txt')"
   ]
  },
  {
   "cell_type": "code",
   "execution_count": 8,
   "metadata": {},
   "outputs": [
    {
     "name": "stdout",
     "output_type": "stream",
     "text": [
      "# 鎶婁笅闈㈢殑杩欎簺涓滆タ閮芥斁鍒颁笂闈㈢殑鏂囦欢閲岄潰\n",
      "hello python\n",
      "tang yu di\n",
      "jin tian tian qi bu cuo\n",
      "\n"
     ]
    }
   ],
   "source": [
    "# read是读取的接口：读取文件中所有的内容\n",
    "txt_read = txt.read()\n",
    "print (txt_read)"
   ]
  },
  {
   "cell_type": "code",
   "execution_count": 15,
   "metadata": {},
   "outputs": [
    {
     "name": "stdout",
     "output_type": "stream",
     "text": [
      "<class 'list'>\n",
      "['# 鎶婁笅闈㈢殑杩欎簺涓滆タ閮芥斁鍒颁笂闈㈢殑鏂囦欢閲岄潰\\n', 'hello python\\n', 'tang yu di\\n', 'jin tian tian qi bu cuo\\n']\n"
     ]
    }
   ],
   "source": [
    "# readlines 一行一行读取的接口\n",
    "# 是用行来分割\n",
    "lines = txt.readlines()\n",
    "# lines 的类型\n",
    "print (type(lines))\n",
    "print (lines)"
   ]
  },
  {
   "cell_type": "code",
   "execution_count": 16,
   "metadata": {},
   "outputs": [
    {
     "name": "stdout",
     "output_type": "stream",
     "text": [
      "cur_line: hello python\n",
      "\n",
      "cur_line: tang yu di\n",
      "\n",
      "cur_line: jin tian tian qi bu cuo\n"
     ]
    }
   ],
   "source": [
    "# lines = txt.readlines() lines是一个行的结果\n",
    "for line in lines:\n",
    "    print ('cur_line:',line)"
   ]
  },
  {
   "cell_type": "code",
   "execution_count": 17,
   "metadata": {
    "collapsed": true
   },
   "outputs": [],
   "source": [
    "# 关闭文件，是必不可少的操作\n",
    "txt.close()"
   ]
  },
  {
   "cell_type": "code",
   "execution_count": 19,
   "metadata": {
    "collapsed": true
   },
   "outputs": [],
   "source": [
    "# 打开一个文件，并且给到写的权限\n",
    "txt = open('tang_write.txt','w')\n",
    "# 往文件里写一些东西\n",
    "txt.write('jin tian tian qi bu cuo')\n",
    "# 换行，只能自己添加\n",
    "txt.write('\\n')\n",
    "txt.write('tang yu di')\n",
    "# 关闭文件\n",
    "txt.close()"
   ]
  },
  {
   "cell_type": "code",
   "execution_count": 20,
   "metadata": {
    "collapsed": true
   },
   "outputs": [],
   "source": [
    "# 此时会把原来的内容直接覆盖掉\n",
    "txt = open('tang_write.txt','w')\n",
    "txt.write('123')\n",
    "txt.write('\\n')\n",
    "txt.write('456')\n",
    "txt.close()"
   ]
  },
  {
   "cell_type": "code",
   "execution_count": 21,
   "metadata": {
    "collapsed": true
   },
   "outputs": [],
   "source": [
    "# a模式是追加模式，之前的内容不会被覆盖掉\n",
    "txt = open('tang_write.txt','a')\n",
    "txt.write('tangyudi')\n",
    "txt.write('\\n')\n",
    "txt.write('789678657')\n",
    "txt.close()"
   ]
  },
  {
   "cell_type": "code",
   "execution_count": 23,
   "metadata": {},
   "outputs": [
    {
     "name": "stdout",
     "output_type": "stream",
     "text": [
      "\n"
     ]
    }
   ],
   "source": [
    "txt = open('tang_write.txt','w')\n",
    "for i in range(100):\n",
    "    txt.write(str(i)+'\\n')\n",
    "#     写完了不关闭是没有办法读取的\n",
    "txt2 = open('tang_write.txt','r')\n",
    "print (txt2.read())"
   ]
  },
  {
   "cell_type": "code",
   "execution_count": 16,
   "metadata": {},
   "outputs": [
    {
     "name": "stdout",
     "output_type": "stream",
     "text": [
      "0\n",
      "1\n",
      "2\n",
      "3\n",
      "4\n",
      "\n"
     ]
    }
   ],
   "source": [
    "txt = open('tang_write.txt','w')\n",
    "for i in range(5):\n",
    "    txt.write(str(i)+'\\n')\n",
    "#     写完了要关闭才能再读\n",
    "txt.close()\n",
    "txt2 = open('tang_write.txt','r')\n",
    "print (txt2.read())"
   ]
  },
  {
   "cell_type": "code",
   "execution_count": 32,
   "metadata": {},
   "outputs": [
    {
     "name": "stdout",
     "output_type": "stream",
     "text": [
      "error: 50\n"
     ]
    }
   ],
   "source": [
    "txt = open('tang_write.txt','w')\n",
    "# 捕获异常\n",
    "try:\n",
    "    for i in range(100):\n",
    "        10/(i-50)\n",
    "        txt.write(str(i)+'\\n')\n",
    "#         捕获异常的类\n",
    "except Exception:\n",
    "    print ('error:',i)\n",
    "finally:\n",
    "    txt.close()\n",
    "#     最后一定要关闭文件"
   ]
  },
  {
   "cell_type": "code",
   "execution_count": 17,
   "metadata": {},
   "outputs": [],
   "source": [
    "# with as 写法此时不需要写close 写完会自己关闭掉，不用自己手动关闭\n",
    "# 最推荐这种关闭方式\n",
    "# 比较复杂的文件还有其他的工具包\n",
    "with open('tang_write.txt','w') as f:\n",
    "    f.write('jin tian tian qi bu cuo')"
   ]
  },
  {
   "cell_type": "code",
   "execution_count": null,
   "metadata": {
    "collapsed": true
   },
   "outputs": [],
   "source": [
    "# 结束"
   ]
  }
 ],
 "metadata": {
  "anaconda-cloud": {},
  "kernelspec": {
   "display_name": "Python 3",
   "language": "python",
   "name": "python3"
  },
  "language_info": {
   "codemirror_mode": {
    "name": "ipython",
    "version": 3
   },
   "file_extension": ".py",
   "mimetype": "text/x-python",
   "name": "python",
   "nbconvert_exporter": "python",
   "pygments_lexer": "ipython3",
   "version": "3.7.3"
  }
 },
 "nbformat": 4,
 "nbformat_minor": 1
}

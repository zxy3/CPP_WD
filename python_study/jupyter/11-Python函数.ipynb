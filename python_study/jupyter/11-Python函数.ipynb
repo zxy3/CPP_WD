{
 "cells": [
  {
   "cell_type": "markdown",
   "metadata": {},
   "source": [
    "### 函数"
   ]
  },
  {
   "cell_type": "code",
   "execution_count": 1,
   "metadata": {},
   "outputs": [
    {
     "data": {
      "text/plain": [
       "30"
      ]
     },
     "execution_count": 1,
     "metadata": {},
     "output_type": "execute_result"
    }
   ],
   "source": [
    "# 函数操作\n",
    "a = 10\n",
    "b = 20\n",
    "a+b"
   ]
  },
  {
   "cell_type": "code",
   "execution_count": 4,
   "metadata": {},
   "outputs": [
    {
     "name": "stdout",
     "output_type": "stream",
     "text": [
      "a = 10\n",
      "a = 10\n",
      "a = 10\n"
     ]
    }
   ],
   "source": [
    "# 把函数操作封装到函数中print_value是函数名字\n",
    "# def是函数名字\n",
    "def print_value():\n",
    "#     函数里面运行的部分\n",
    "    print ('a =',a)\n",
    "    print ('a =',a)\n",
    "    print ('a =',a)\n",
    "\n",
    "print_value()    "
   ]
  },
  {
   "cell_type": "code",
   "execution_count": 1,
   "metadata": {},
   "outputs": [
    {
     "data": {
      "text/plain": [
       "8"
      ]
     },
     "execution_count": 1,
     "metadata": {},
     "output_type": "execute_result"
    }
   ],
   "source": [
    "# 要传参的函数\n",
    "def add_ab(a,b):\n",
    "# 定义加法操作\n",
    "# 需要使用缩进来控制函数执行的优先级\n",
    "    return (a+b)\n",
    "# 用一个值接函数的返回值\n",
    "tang = add_ab(3,5)\n",
    "tang"
   ]
  },
  {
   "cell_type": "code",
   "execution_count": 13,
   "metadata": {},
   "outputs": [
    {
     "ename": "TypeError",
     "evalue": "add_ab() missing 1 required positional argument: 'b'",
     "output_type": "error",
     "traceback": [
      "\u001b[0;31m---------------------------------------------------------------------------\u001b[0m",
      "\u001b[0;31mTypeError\u001b[0m                                 Traceback (most recent call last)",
      "\u001b[0;32m<ipython-input-13-f502e4e85438>\u001b[0m in \u001b[0;36m<module>\u001b[0;34m()\u001b[0m\n\u001b[0;32m----> 1\u001b[0;31m \u001b[0mtang\u001b[0m \u001b[1;33m=\u001b[0m \u001b[0madd_ab\u001b[0m\u001b[1;33m(\u001b[0m\u001b[1;36m3\u001b[0m\u001b[1;33m)\u001b[0m\u001b[1;33m\u001b[0m\u001b[0m\n\u001b[0m",
      "\u001b[0;31mTypeError\u001b[0m: add_ab() missing 1 required positional argument: 'b'"
     ]
    }
   ],
   "source": [
    "tang = add_ab(3)\n",
    "# 参数传错了"
   ]
  },
  {
   "cell_type": "code",
   "execution_count": 14,
   "metadata": {},
   "outputs": [
    {
     "data": {
      "text/plain": [
       "3"
      ]
     },
     "execution_count": 14,
     "metadata": {},
     "output_type": "execute_result"
    }
   ],
   "source": [
    "# 给了默认的数值，不传参也可以\n",
    "def add_ab(a=1,b=2):\n",
    "    return (a+b)\n",
    "# 此时使用的是默认值来计算的\n",
    "tang = add_ab()\n",
    "tang"
   ]
  },
  {
   "cell_type": "code",
   "execution_count": 18,
   "metadata": {},
   "outputs": [
    {
     "data": {
      "text/plain": [
       "6"
      ]
     },
     "execution_count": 18,
     "metadata": {},
     "output_type": "execute_result"
    }
   ],
   "source": [
    "# 一个使用自己输入的值，一个使用的是默认值，也是可以的\n",
    "tang = add_ab(3,b=3)\n",
    "tang"
   ]
  },
  {
   "cell_type": "code",
   "execution_count": 8,
   "metadata": {},
   "outputs": [
    {
     "name": "stdout",
     "output_type": "stream",
     "text": [
      "3 3\n",
      "6 9\n",
      "6 9\n"
     ]
    }
   ],
   "source": [
    "# 接受不定个数的参数，第一个是一个参数，第二个是不定的\n",
    "def add_number(a,*args):\n",
    "    b = 0\n",
    "#     i不是序号是索引，拿到的就是args里面的值\n",
    "    for i in args:\n",
    "        a += i\n",
    "        b += a\n",
    "        print(a,b)\n",
    "    return a,b\n",
    "# b是后面加上去的，为了return多个值\n",
    "a,b = add_number(1,2,3)\n",
    "print (a,b)"
   ]
  },
  {
   "cell_type": "code",
   "execution_count": 23,
   "metadata": {},
   "outputs": [
    {
     "name": "stdout",
     "output_type": "stream",
     "text": [
      "y 3\n",
      "x 2\n"
     ]
    }
   ],
   "source": [
    "# 字典中走循环\n",
    "def add_number2(a,**kwargs):\n",
    "# key和value\n",
    "    for arg,value in kwargs.items():\n",
    "        print (arg,value)\n",
    "#         字典里面的结构都是键值对\n",
    "add_number2(1,x=2,y=3)\n",
    "# 1实际上是没有用到"
   ]
  },
  {
   "cell_type": "code",
   "execution_count": null,
   "metadata": {
    "collapsed": true
   },
   "outputs": [],
   "source": [
    "// 结束"
   ]
  }
 ],
 "metadata": {
  "anaconda-cloud": {},
  "kernelspec": {
   "display_name": "Python 3",
   "language": "python",
   "name": "python3"
  },
  "language_info": {
   "codemirror_mode": {
    "name": "ipython",
    "version": 3
   },
   "file_extension": ".py",
   "mimetype": "text/x-python",
   "name": "python",
   "nbconvert_exporter": "python",
   "pygments_lexer": "ipython3",
   "version": "3.7.3"
  }
 },
 "nbformat": 4,
 "nbformat_minor": 1
}

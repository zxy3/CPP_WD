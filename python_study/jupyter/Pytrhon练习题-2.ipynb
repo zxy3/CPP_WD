{
 "cells": [
  {
   "cell_type": "markdown",
   "metadata": {},
   "source": [
    "（一）利用递归方法求5!"
   ]
  },
  {
   "cell_type": "code",
   "execution_count": 6,
   "metadata": {},
   "outputs": [
    {
     "name": "stdout",
     "output_type": "stream",
     "text": [
      "0!=1\n",
      "1!=1\n",
      "2!=2\n",
      "3!=6\n",
      "4!=24\n",
      "5!=120\n",
      "6!=720\n",
      "7!=5040\n",
      "8!=40320\n",
      "9!=362880\n"
     ]
    }
   ],
   "source": [
    "def tang(j):\n",
    "    sum_value = 0\n",
    "    if j == 0:\n",
    "        sum_value = 1\n",
    "    else:\n",
    "        sum_value = j * tang(j - 1)\n",
    "    return sum_value\n",
    "for i in range(10):\n",
    "    print ('%d!=%d' % (i,tang(i)))"
   ]
  },
  {
   "cell_type": "markdown",
   "metadata": {},
   "source": [
    "（二）利用递归函数调用方式，将所输入的5个字符，以相反顺序打印出来"
   ]
  },
  {
   "cell_type": "code",
   "execution_count": 7,
   "metadata": {},
   "outputs": [
    {
     "name": "stdout",
     "output_type": "stream",
     "text": [
      "输入一个串tangyudi\n",
      "i\n",
      "d\n",
      "u\n",
      "y\n",
      "g\n",
      "n\n",
      "a\n",
      "t\n"
     ]
    }
   ],
   "source": [
    "def output(s,l):\n",
    "    if l == 0:\n",
    "        return\n",
    "    print (s[l-1])\n",
    "    output(s,l-1)\n",
    "s = input('输入一个串')\n",
    "l = len(s)\n",
    "output(s,l)"
   ]
  },
  {
   "cell_type": "markdown",
   "metadata": {},
   "source": [
    "（三）按逗号分隔列表"
   ]
  },
  {
   "cell_type": "code",
   "execution_count": 10,
   "metadata": {},
   "outputs": [
    {
     "data": {
      "text/plain": [
       "'tang,yu,di,123'"
      ]
     },
     "execution_count": 10,
     "metadata": {},
     "output_type": "execute_result"
    }
   ],
   "source": [
    "L  = ['tang','yu','di',123]\n",
    "s = ','.join(str(n) for n in L)\n",
    "s"
   ]
  },
  {
   "cell_type": "markdown",
   "metadata": {},
   "source": [
    "（四）将一个数组逆序输出"
   ]
  },
  {
   "cell_type": "code",
   "execution_count": 13,
   "metadata": {},
   "outputs": [
    {
     "name": "stdout",
     "output_type": "stream",
     "text": [
      "[5, 7, 8, 5, 9, 1]\n",
      "[1, 9, 5, 8, 7, 5]\n"
     ]
    }
   ],
   "source": [
    "a = [5,7,8,5,9,1]\n",
    "N = len(a)\n",
    "print (a)\n",
    "for i in range(int(len(a)/2)):\n",
    "    a[i],a[N-1-i] = a[N-1-i],a[i]\n",
    "print (a)"
   ]
  },
  {
   "cell_type": "markdown",
   "metadata": {},
   "source": [
    "（五）两个 3 行 3 列的矩阵，实现其对应位置的数据相加，并返回一个新矩阵"
   ]
  },
  {
   "cell_type": "code",
   "execution_count": 15,
   "metadata": {},
   "outputs": [
    {
     "name": "stdout",
     "output_type": "stream",
     "text": [
      "[11, 4, 6]\n",
      "[8, 55, 12]\n",
      "[14, 16, 99]\n"
     ]
    }
   ],
   "source": [
    "X = [[1,2,3],\n",
    "     [4,5,6],\n",
    "     [7,8,9]\n",
    "    ]\n",
    "Y = [[10,2,3],\n",
    "     [4,50,6],\n",
    "     [7,8,90]\n",
    "    ]\n",
    "Z = [[0,0,0],\n",
    "     [0,0,0],\n",
    "     [0,0,0]\n",
    "    ]\n",
    "for i in range(3):\n",
    "    for j in range(3):\n",
    "        Z[i][j] = X[i][j] + Y[i][j]\n",
    "for z in Z:\n",
    "    print (z)"
   ]
  },
  {
   "cell_type": "markdown",
   "metadata": {},
   "source": [
    "（六）匿名函数求和"
   ]
  },
  {
   "cell_type": "code",
   "execution_count": 16,
   "metadata": {},
   "outputs": [
    {
     "name": "stdout",
     "output_type": "stream",
     "text": [
      "3\n"
     ]
    }
   ],
   "source": [
    "sum_value = lambda x,y:x+y\n",
    "print (sum_value(1,2))"
   ]
  },
  {
   "cell_type": "markdown",
   "metadata": {},
   "source": [
    "（七）查找字符串的位置"
   ]
  },
  {
   "cell_type": "code",
   "execution_count": 17,
   "metadata": {},
   "outputs": [
    {
     "name": "stdout",
     "output_type": "stream",
     "text": [
      "3\n"
     ]
    }
   ],
   "source": [
    "s1 = 'asdffgdhfdjhgj'\n",
    "s2 = 'ffg'\n",
    "print (s1.find(s2))"
   ]
  },
  {
   "cell_type": "markdown",
   "metadata": {},
   "source": [
    "（八）在字典中找到年龄最大的人，并输出"
   ]
  },
  {
   "cell_type": "code",
   "execution_count": 19,
   "metadata": {},
   "outputs": [
    {
     "name": "stdout",
     "output_type": "stream",
     "text": [
      "zhangsan 45\n"
     ]
    }
   ],
   "source": [
    "people = {'laowang':40,'tangyudi':30,'zhangsan':45}\n",
    "m = 'tangyudi'\n",
    "for key in people.keys():\n",
    "    if people[m] < people[key]:\n",
    "        m = key\n",
    "#         打印键和值\n",
    "print (m,people[m])\n",
    "        "
   ]
  },
  {
   "cell_type": "markdown",
   "metadata": {},
   "source": [
    "（九）列表转换为字典"
   ]
  },
  {
   "cell_type": "code",
   "execution_count": 20,
   "metadata": {},
   "outputs": [
    {
     "name": "stdout",
     "output_type": "stream",
     "text": [
      "{123: 456, 'tang': 'yudi'}\n"
     ]
    }
   ],
   "source": [
    "k = ['tang','yudi']\n",
    "v = [123,456]\n",
    "# 将键值对，直接组建成一个字典\n",
    "print (dict([k,v]))"
   ]
  },
  {
   "cell_type": "markdown",
   "metadata": {},
   "source": [
    "（十）从键盘输入一个字符串，将小写字母全部转换成大写字母，然后输出到一个磁盘文件\"test\"中保存"
   ]
  },
  {
   "cell_type": "code",
   "execution_count": 22,
   "metadata": {},
   "outputs": [
    {
     "name": "stdout",
     "output_type": "stream",
     "text": [
      "输入一个串串faewbhjgjbikerg\n",
      "FAEWBHJGJBIKERG\n"
     ]
    }
   ],
   "source": [
    "f = open('test.txt','w')\n",
    "# 打开一个文件\n",
    "s = input('输入一个串串')\n",
    "# 将所有字母都换换成大写\n",
    "s = s.upper()\n",
    "# 把转换结束的字符串都写到原来的文件中\n",
    "f.write(s)\n",
    "# 关闭文件\n",
    "f.close()\n",
    "# 再次打开,主要是为了读\n",
    "f = open('test.txt','r')\n",
    "# 开始读\n",
    "print (f.read())\n",
    "# 关闭\n",
    "f.close()"
   ]
  },
  {
   "cell_type": "code",
   "execution_count": null,
   "metadata": {
    "collapsed": true
   },
   "outputs": [],
   "source": [
    "# 结束\n",
    "# python都是边练边学的。"
   ]
  }
 ],
 "metadata": {
  "anaconda-cloud": {},
  "kernelspec": {
   "display_name": "Python 3",
   "language": "python",
   "name": "python3"
  },
  "language_info": {
   "codemirror_mode": {
    "name": "ipython",
    "version": 3
   },
   "file_extension": ".py",
   "mimetype": "text/x-python",
   "name": "python",
   "nbconvert_exporter": "python",
   "pygments_lexer": "ipython3",
   "version": "3.7.3"
  }
 },
 "nbformat": 4,
 "nbformat_minor": 1
}
